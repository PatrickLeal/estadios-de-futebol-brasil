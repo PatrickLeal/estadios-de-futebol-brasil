{
 "cells": [
  {
   "cell_type": "code",
   "execution_count": null,
   "metadata": {},
   "outputs": [],
   "source": [
    "import requests\n",
    "from bs4 import BeautifulSoup\n",
    "import pandas as pd"
   ]
  },
  {
   "cell_type": "code",
   "execution_count": null,
   "metadata": {},
   "outputs": [],
   "source": [
    "# URL da página da Wikipedia\n",
    "url = 'https://pt.wikipedia.org/wiki/Lista_dos_maiores_est%C3%A1dios_de_futebol_do_Brasil'\n",
    "url_base = 'https://pt.wikipedia.org'\n",
    "\n",
    "# Enviar uma solicitação GET para a página\n",
    "response = requests.get(url)\n",
    "\n",
    "# Verificar se a solicitação foi bem-sucedida\n",
    "if response.status_code == 200:\n",
    "    # Analisar o conteúdo da página com BeautifulSoup\n",
    "    soup = BeautifulSoup(response.text, 'html.parser')\n",
    "    \n",
    "    # Encontrar a minha tabela desejada\n",
    "    my_table = soup.find(\"table\", {\"class\": \"wikitable\"})\n",
    "    \n",
    "    # Encontrar todos os links dentro da tabela\n",
    "    stadium_links = my_table.find_all('a', href=True)\n",
    "\n",
    "    # Filtrar apenas os links que têm \"Estádio\" no atributo 'title'\n",
    "    stadium_links = [link for link in stadium_links if 'Estádio' in link.get('title', '')]\n",
    "    \n",
    "    # Iterar pelos links e imprimir seus URLs\n",
    "    complete_stadium_links = []\n",
    "    for link in stadium_links:\n",
    "        if 'página não existe' in link.get('title', ''):\n",
    "            pass\n",
    "        else:\n",
    "            complete_link = url_base + link['href']\n",
    "            complete_stadium_links.append(complete_link)\n",
    "        \n",
    "else:\n",
    "    print(f'Não foi possível acessar a página. Código de status: {response.status_code}')"
   ]
  },
  {
   "cell_type": "code",
   "execution_count": null,
   "metadata": {},
   "outputs": [],
   "source": [
    "complete_stadium_links[:10]"
   ]
  },
  {
   "cell_type": "code",
   "execution_count": null,
   "metadata": {},
   "outputs": [],
   "source": [
    "\n",
    "\n",
    "\n",
    "stadium_names = []\n",
    "stadium_details = []\n",
    "\n",
    "for link in complete_stadium_links:\n",
    "\n",
    "    # Enviar uma solicitação GET para a página\n",
    "    stadium_page = requests.get(link)\n",
    "\n",
    "    # Verificar se a solicitação foi bem-sucedida\n",
    "    if stadium_page.status_code == 200:\n",
    "        try:\n",
    "            # Analisar o conteúdo da página com BeautifulSoup\n",
    "            page = BeautifulSoup(stadium_page.text, 'html.parser')\n",
    "\n",
    "            # Encontrar a minha tabela desejada\n",
    "            my_table = page.find(\"table\", {\"class\": \"infobox infobox_v2\"})\n",
    "            \n",
    "            # Encontrar o nome do estadio\n",
    "            nome_estadio = my_table.find('th').get_text(strip=True)\n",
    "            stadium_names.append(nome_estadio) # Insere o nome do estadio na lista de nomes de estadio\n",
    "            print(nome_estadio)\n",
    "            print(\"------------------------------------\")\n",
    "            \n",
    "            # Lista com as linhas desejadas\n",
    "            rows = [] # cria uma lista vazia\n",
    "\n",
    "            wanted_values = ['nome', 'apelido', 'data', 'público recorde', 'data recorde', 'partida com mais público']\n",
    "\n",
    "            link_atual = ['link', link]\n",
    "            rows.append(link_atual)\n",
    "            \n",
    "            for row in my_table.find_all('tr')[1:]: \n",
    "                value = row.find_all('td')  \n",
    "                                    \n",
    "                beautified_value = [ele.text.strip() for ele in value] \n",
    "                \n",
    "                if len(beautified_value) == 0:                         \n",
    "                    continue\n",
    "            \n",
    "                if str.lower(beautified_value[0]) in wanted_values:\n",
    "                    rows.append(beautified_value) # Insere as linhas desejadas na lista 'rows'       \n",
    "        # fim try\n",
    "        \n",
    "        except Exception as error:\n",
    "            continue\n",
    "    # fim if\n",
    "\n",
    "    else:\n",
    "        print(f'Não foi possível acessar a página. Código de status: {response.status_code}')\n",
    "\n",
    "    stadium_details.append(rows)\n",
    "    "
   ]
  },
  {
   "cell_type": "code",
   "execution_count": null,
   "metadata": {},
   "outputs": [],
   "source": [
    "stadium_details_dict = {}\n",
    "\n",
    "# Transforma as listas com os nomes dos estadios e os detalhes em um dicionario \n",
    "for i in range(len(stadium_names)):\n",
    "    key = stadium_names[i]\n",
    "    value = stadium_details[i]\n",
    "    stadium_details_dict[key] = value\n",
    "\n",
    "# Iterar pelo dicionário\n",
    "for chave, valor in stadium_details_dict.items():\n",
    "    print(chave)                                 # Imprime a chave\n",
    "    for item in valor:                           # Itera pelas listas internas\n",
    "        print(item)                              # Imprime cada lista interna\n",
    "    print()\n",
    "                                  # Quebra de linha entre as entradas do dicionário\n"
   ]
  },
  {
   "cell_type": "code",
   "execution_count": null,
   "metadata": {},
   "outputs": [],
   "source": [
    "for stadium, info in stadium_details_dict.items():\n",
    "    stadium_info = {}\n",
    "\n",
    "    for item in info:\n",
    "        stadium_info[item[0]] = item[1]\n",
    "        \n",
    "    stadium_details_dict[stadium] = stadium_info"
   ]
  },
  {
   "cell_type": "code",
   "execution_count": null,
   "metadata": {},
   "outputs": [],
   "source": [
    "# Iterar pelo dicionário\n",
    "for chave, valor in stadium_details_dict.items():\n",
    "    print(chave)                                               # Imprime a chave\n",
    "    for item, info in valor.items():                           # Itera pelas listas internas\n",
    "        print(item, \": \", info)                                # Imprime cada lista interna\n",
    "    print()\n",
    "    "
   ]
  },
  {
   "cell_type": "code",
   "execution_count": null,
   "metadata": {},
   "outputs": [],
   "source": [
    "stadium_details_dict['Maracanã']"
   ]
  },
  {
   "cell_type": "code",
   "execution_count": null,
   "metadata": {},
   "outputs": [],
   "source": [
    "df = pd.DataFrame.from_dict(stadium_details_dict, orient='index')\n",
    "df.reset_index(inplace=True)\n",
    "df.rename(columns={'index': 'Estadio',\n",
    "                   'Nome': 'Nome Oficial' ,\n",
    "                   'Data': 'Data Inauguracao'}, inplace=True)\n",
    "df\n"
   ]
  },
  {
   "cell_type": "code",
   "execution_count": null,
   "metadata": {},
   "outputs": [],
   "source": [
    "pd.set_option('display.max_colwidth', None)"
   ]
  },
  {
   "cell_type": "code",
   "execution_count": null,
   "metadata": {},
   "outputs": [],
   "source": [
    "df['Estadio'] = df['Estadio'].str.replace('Estádio', ' Estádio')\n",
    "df.head()"
   ]
  },
  {
   "cell_type": "code",
   "execution_count": null,
   "metadata": {},
   "outputs": [],
   "source": [
    "df.to_csv('brazilian-stadiums-details.csv', index=False)"
   ]
  },
  {
   "cell_type": "markdown",
   "metadata": {},
   "source": [
    "oq eu quero?\n",
    "\n",
    "* Nome Oficial\n",
    "* Apelido\n",
    "* data construção\n",
    "* data inauguração\n",
    "* Publico recorde\n",
    "* data Recorde\n",
    "* partida com mais publico\n"
   ]
  }
 ],
 "metadata": {
  "kernelspec": {
   "display_name": "ds_minimo",
   "language": "python",
   "name": "python3"
  },
  "language_info": {
   "codemirror_mode": {
    "name": "ipython",
    "version": 3
   },
   "file_extension": ".py",
   "mimetype": "text/x-python",
   "name": "python",
   "nbconvert_exporter": "python",
   "pygments_lexer": "ipython3",
   "version": "3.11.0"
  },
  "orig_nbformat": 4
 },
 "nbformat": 4,
 "nbformat_minor": 2
}
